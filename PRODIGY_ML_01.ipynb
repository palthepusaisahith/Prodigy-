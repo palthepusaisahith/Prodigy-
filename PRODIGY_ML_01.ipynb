{
  "nbformat": 4,
  "nbformat_minor": 0,
  "metadata": {
    "colab": {
      "provenance": []
    },
    "kernelspec": {
      "name": "python3",
      "display_name": "Python 3"
    },
    "language_info": {
      "name": "python"
    }
  },
  "cells": [
    {
      "cell_type": "code",
      "execution_count": null,
      "metadata": {
        "id": "yk0S9hh2Lnsn"
      },
      "outputs": [],
      "source": [
        "import numpy as np\n",
        "import pandas as pd\n",
        "from sklearn.model_selection import train_test_split\n",
        "from sklearn.linear_model import LinearRegression\n",
        "from sklearn.metrics import mean_squared_error, mean_absolute_error\n",
        "\n",
        "\n",
        "data = pd.read_csv('/content/Housing.csv')\n",
        "\n"
      ]
    },
    {
      "cell_type": "code",
      "source": [
        "print(data.columns)"
      ],
      "metadata": {
        "colab": {
          "base_uri": "https://localhost:8080/"
        },
        "id": "RewN8341MTvR",
        "outputId": "9541a79f-20b8-4d0d-ee0e-9323d2bd854e"
      },
      "execution_count": null,
      "outputs": [
        {
          "output_type": "stream",
          "name": "stdout",
          "text": [
            "Index(['price', 'area', 'bedrooms', 'bathrooms', 'stories', 'mainroad',\n",
            "       'guestroom', 'basement', 'hotwaterheating', 'airconditioning',\n",
            "       'parking', 'prefarea', 'furnishingstatus'],\n",
            "      dtype='object')\n"
          ]
        }
      ]
    },
    {
      "cell_type": "code",
      "source": [
        "\n",
        "X = data[['area', 'bedrooms', 'bathrooms']]  # Adjust column names accordingly\n",
        "y = data['price']  # Adjust column name accordingly\n",
        "\n",
        "# Split the data into training and testing sets (80% train, 20% test)\n",
        "X_train, X_test, y_train, y_test = train_test_split(X, y, test_size=0.2, random_state=42)\n",
        "\n",
        "# Initialize linear regression model\n",
        "model = LinearRegression()\n",
        "\n",
        "# Train the model\n",
        "model.fit(X_train, y_train)\n",
        "\n",
        "# Make predictions\n",
        "y_pred = model.predict(X_test)\n",
        "\n",
        "# Evaluate the model\n",
        "mse = mean_squared_error(y_test, y_pred)\n",
        "mae = mean_absolute_error(y_test, y_pred)\n",
        "rmse = np.sqrt(mse)\n",
        "print(\"Mean Squared Error:\", mse)\n",
        "print(\"Mean Absolute Error:\", mae)\n",
        "print(\"Root Mean Squared Error:\", rmse)\n",
        "\n",
        "# Example prediction for a new house\n",
        "new_house = np.array([[2000, 3, 2]])  # Adjust feature values accordingly\n",
        "predicted_price = model.predict(new_house)\n",
        "print(\"Predicted price for the new house:\", predicted_price)\n"
      ],
      "metadata": {
        "colab": {
          "base_uri": "https://localhost:8080/"
        },
        "id": "G8byPynxMVNK",
        "outputId": "b1d139ab-bdc8-4fdb-96e3-c9d2e5e6f8f0"
      },
      "execution_count": null,
      "outputs": [
        {
          "output_type": "stream",
          "name": "stdout",
          "text": [
            "Mean Squared Error: 2750040479309.0522\n",
            "Mean Absolute Error: 1265275.6699454375\n",
            "Root Mean Squared Error: 1658324.6001036866\n",
            "Predicted price for the new house: [4675650.78603028]\n"
          ]
        },
        {
          "output_type": "stream",
          "name": "stderr",
          "text": [
            "/usr/local/lib/python3.10/dist-packages/sklearn/base.py:439: UserWarning: X does not have valid feature names, but LinearRegression was fitted with feature names\n",
            "  warnings.warn(\n"
          ]
        }
      ]
    }
  ]
}